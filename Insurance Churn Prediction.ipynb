{
 "cells": [
  {
   "cell_type": "code",
   "execution_count": 378,
   "metadata": {},
   "outputs": [
    {
     "name": "stdout",
     "output_type": "stream",
     "text": [
      "explore1.csv\n",
      "explore2.csv\n",
      "final_predictions.csv\n",
      "sample_submission_sLex1ul.csv\n",
      "sne_test.csv\n",
      "sne_train.csv\n",
      "sub1.csv\n",
      "sub2.csv\n",
      "test_66516Ee.csv\n",
      "train_ZoGVYWq.csv\n",
      "\n"
     ]
    }
   ],
   "source": [
    "import pandas as pd\n",
    "import math\n",
    "import os\n",
    "import string\n",
    "import numpy as np\n",
    "from sklearn import metrics\n",
    "import matplotlib\n",
    "import matplotlib.pyplot as plt\n",
    "import seaborn as sns\n",
    "import warnings; warnings.simplefilter('ignore')\n",
    "from sklearn.preprocessing import scale\n",
    "from sklearn.preprocessing import MinMaxScaler\n",
    "from sklearn.model_selection import GridSearchCV\n",
    "from sklearn.ensemble import RandomForestClassifier\n",
    "from sklearn.metrics import roc_auc_score\n",
    "\n",
    "import seaborn as sns\n",
    "sns.set_style(\"whitegrid\")\n",
    "\n",
    "matplotlib.style.use('ggplot')\n",
    "# use the code below to make sure plot is shown in Notebook\n",
    "%matplotlib inline \n",
    "\n",
    "os.chdir('/Users/pawanshivhare/Desktop/Kaggle Competition/mckinsey_hack/data')\n",
    "\n",
    "from subprocess import check_output\n",
    "print(check_output([\"ls\", \"../data\"]).decode(\"utf8\"))"
   ]
  },
  {
   "cell_type": "code",
   "execution_count": 379,
   "metadata": {},
   "outputs": [
    {
     "name": "stdout",
     "output_type": "stream",
     "text": [
      "Train obs: 79853 ,Train Cols: 13\n",
      "Test obs: 34224 ,Test Cols: 12\n"
     ]
    }
   ],
   "source": [
    "dftrain=pd.read_csv('train_ZoGVYWq.csv')\n",
    "dftest=pd.read_csv('test_66516Ee.csv')\n",
    "print(\"Train obs: \" + str(dftrain.shape[0]) + \" ,Train Cols: \" + str(dftrain.shape[1]))\n",
    "print(\"Test obs: \" + str(dftest.shape[0]) + \" ,Test Cols: \" + str(dftest.shape[1]))"
   ]
  },
  {
   "cell_type": "code",
   "execution_count": 380,
   "metadata": {},
   "outputs": [
    {
     "data": {
      "text/html": [
       "<div>\n",
       "<style>\n",
       "    .dataframe thead tr:only-child th {\n",
       "        text-align: right;\n",
       "    }\n",
       "\n",
       "    .dataframe thead th {\n",
       "        text-align: left;\n",
       "    }\n",
       "\n",
       "    .dataframe tbody tr th {\n",
       "        vertical-align: top;\n",
       "    }\n",
       "</style>\n",
       "<table border=\"1\" class=\"dataframe\">\n",
       "  <thead>\n",
       "    <tr style=\"text-align: right;\">\n",
       "      <th></th>\n",
       "      <th>Feature_Name</th>\n",
       "      <th>Missing_value</th>\n",
       "    </tr>\n",
       "  </thead>\n",
       "  <tbody>\n",
       "    <tr>\n",
       "      <th>7</th>\n",
       "      <td>application_underwriting_score</td>\n",
       "      <td>2974</td>\n",
       "    </tr>\n",
       "    <tr>\n",
       "      <th>4</th>\n",
       "      <td>Count_3-6_months_late</td>\n",
       "      <td>97</td>\n",
       "    </tr>\n",
       "    <tr>\n",
       "      <th>5</th>\n",
       "      <td>Count_6-12_months_late</td>\n",
       "      <td>97</td>\n",
       "    </tr>\n",
       "    <tr>\n",
       "      <th>6</th>\n",
       "      <td>Count_more_than_12_months_late</td>\n",
       "      <td>97</td>\n",
       "    </tr>\n",
       "    <tr>\n",
       "      <th>0</th>\n",
       "      <td>id</td>\n",
       "      <td>0</td>\n",
       "    </tr>\n",
       "    <tr>\n",
       "      <th>1</th>\n",
       "      <td>perc_premium_paid_by_cash_credit</td>\n",
       "      <td>0</td>\n",
       "    </tr>\n",
       "    <tr>\n",
       "      <th>2</th>\n",
       "      <td>age_in_days</td>\n",
       "      <td>0</td>\n",
       "    </tr>\n",
       "    <tr>\n",
       "      <th>3</th>\n",
       "      <td>Income</td>\n",
       "      <td>0</td>\n",
       "    </tr>\n",
       "    <tr>\n",
       "      <th>8</th>\n",
       "      <td>no_of_premiums_paid</td>\n",
       "      <td>0</td>\n",
       "    </tr>\n",
       "    <tr>\n",
       "      <th>9</th>\n",
       "      <td>sourcing_channel</td>\n",
       "      <td>0</td>\n",
       "    </tr>\n",
       "    <tr>\n",
       "      <th>10</th>\n",
       "      <td>residence_area_type</td>\n",
       "      <td>0</td>\n",
       "    </tr>\n",
       "    <tr>\n",
       "      <th>11</th>\n",
       "      <td>premium</td>\n",
       "      <td>0</td>\n",
       "    </tr>\n",
       "    <tr>\n",
       "      <th>12</th>\n",
       "      <td>renewal</td>\n",
       "      <td>0</td>\n",
       "    </tr>\n",
       "  </tbody>\n",
       "</table>\n",
       "</div>"
      ],
      "text/plain": [
       "                        Feature_Name  Missing_value\n",
       "7     application_underwriting_score           2974\n",
       "4              Count_3-6_months_late             97\n",
       "5             Count_6-12_months_late             97\n",
       "6     Count_more_than_12_months_late             97\n",
       "0                                 id              0\n",
       "1   perc_premium_paid_by_cash_credit              0\n",
       "2                        age_in_days              0\n",
       "3                             Income              0\n",
       "8                no_of_premiums_paid              0\n",
       "9                   sourcing_channel              0\n",
       "10               residence_area_type              0\n",
       "11                           premium              0\n",
       "12                           renewal              0"
      ]
     },
     "execution_count": 380,
     "metadata": {},
     "output_type": "execute_result"
    }
   ],
   "source": [
    "def missing_data(data): #calculates missing values in each column\n",
    "    total = data.isnull().sum().reset_index()\n",
    "    total.columns  = ['Feature_Name','Missing_value']\n",
    "    total_val = total[total['Missing_value']>0]\n",
    "    total_val = total.sort_values(by ='Missing_value',ascending=[False])\n",
    "    return total_val\n",
    "missing_data(dftrain)"
   ]
  },
  {
   "cell_type": "code",
   "execution_count": 381,
   "metadata": {},
   "outputs": [
    {
     "data": {
      "text/html": [
       "<div>\n",
       "<style>\n",
       "    .dataframe thead tr:only-child th {\n",
       "        text-align: right;\n",
       "    }\n",
       "\n",
       "    .dataframe thead th {\n",
       "        text-align: left;\n",
       "    }\n",
       "\n",
       "    .dataframe tbody tr th {\n",
       "        vertical-align: top;\n",
       "    }\n",
       "</style>\n",
       "<table border=\"1\" class=\"dataframe\">\n",
       "  <thead>\n",
       "    <tr style=\"text-align: right;\">\n",
       "      <th></th>\n",
       "      <th>Feature_Name</th>\n",
       "      <th>Missing_value</th>\n",
       "    </tr>\n",
       "  </thead>\n",
       "  <tbody>\n",
       "    <tr>\n",
       "      <th>7</th>\n",
       "      <td>application_underwriting_score</td>\n",
       "      <td>1323</td>\n",
       "    </tr>\n",
       "    <tr>\n",
       "      <th>4</th>\n",
       "      <td>Count_3-6_months_late</td>\n",
       "      <td>31</td>\n",
       "    </tr>\n",
       "    <tr>\n",
       "      <th>5</th>\n",
       "      <td>Count_6-12_months_late</td>\n",
       "      <td>31</td>\n",
       "    </tr>\n",
       "    <tr>\n",
       "      <th>6</th>\n",
       "      <td>Count_more_than_12_months_late</td>\n",
       "      <td>31</td>\n",
       "    </tr>\n",
       "    <tr>\n",
       "      <th>0</th>\n",
       "      <td>id</td>\n",
       "      <td>0</td>\n",
       "    </tr>\n",
       "    <tr>\n",
       "      <th>1</th>\n",
       "      <td>perc_premium_paid_by_cash_credit</td>\n",
       "      <td>0</td>\n",
       "    </tr>\n",
       "    <tr>\n",
       "      <th>2</th>\n",
       "      <td>age_in_days</td>\n",
       "      <td>0</td>\n",
       "    </tr>\n",
       "    <tr>\n",
       "      <th>3</th>\n",
       "      <td>Income</td>\n",
       "      <td>0</td>\n",
       "    </tr>\n",
       "    <tr>\n",
       "      <th>8</th>\n",
       "      <td>no_of_premiums_paid</td>\n",
       "      <td>0</td>\n",
       "    </tr>\n",
       "    <tr>\n",
       "      <th>9</th>\n",
       "      <td>sourcing_channel</td>\n",
       "      <td>0</td>\n",
       "    </tr>\n",
       "    <tr>\n",
       "      <th>10</th>\n",
       "      <td>residence_area_type</td>\n",
       "      <td>0</td>\n",
       "    </tr>\n",
       "    <tr>\n",
       "      <th>11</th>\n",
       "      <td>premium</td>\n",
       "      <td>0</td>\n",
       "    </tr>\n",
       "  </tbody>\n",
       "</table>\n",
       "</div>"
      ],
      "text/plain": [
       "                        Feature_Name  Missing_value\n",
       "7     application_underwriting_score           1323\n",
       "4              Count_3-6_months_late             31\n",
       "5             Count_6-12_months_late             31\n",
       "6     Count_more_than_12_months_late             31\n",
       "0                                 id              0\n",
       "1   perc_premium_paid_by_cash_credit              0\n",
       "2                        age_in_days              0\n",
       "3                             Income              0\n",
       "8                no_of_premiums_paid              0\n",
       "9                   sourcing_channel              0\n",
       "10               residence_area_type              0\n",
       "11                           premium              0"
      ]
     },
     "execution_count": 381,
     "metadata": {},
     "output_type": "execute_result"
    }
   ],
   "source": [
    "missing_data(dftest)"
   ]
  },
  {
   "cell_type": "code",
   "execution_count": 382,
   "metadata": {
    "collapsed": true
   },
   "outputs": [],
   "source": [
    "exclu=['id']\n",
    "label=['renewal']\n",
    "train_features=list(set(dftrain.columns.values.tolist()) - set(label)-set(exclu))"
   ]
  },
  {
   "cell_type": "code",
   "execution_count": 383,
   "metadata": {},
   "outputs": [
    {
     "data": {
      "text/html": [
       "<div>\n",
       "<style>\n",
       "    .dataframe thead tr:only-child th {\n",
       "        text-align: right;\n",
       "    }\n",
       "\n",
       "    .dataframe thead th {\n",
       "        text-align: left;\n",
       "    }\n",
       "\n",
       "    .dataframe tbody tr th {\n",
       "        vertical-align: top;\n",
       "    }\n",
       "</style>\n",
       "<table border=\"1\" class=\"dataframe\">\n",
       "  <thead>\n",
       "    <tr style=\"text-align: right;\">\n",
       "      <th></th>\n",
       "      <th>id</th>\n",
       "      <th>perc_premium_paid_by_cash_credit</th>\n",
       "      <th>age_in_days</th>\n",
       "      <th>Income</th>\n",
       "      <th>Count_3-6_months_late</th>\n",
       "      <th>Count_6-12_months_late</th>\n",
       "      <th>Count_more_than_12_months_late</th>\n",
       "      <th>application_underwriting_score</th>\n",
       "      <th>no_of_premiums_paid</th>\n",
       "      <th>sourcing_channel</th>\n",
       "      <th>residence_area_type</th>\n",
       "      <th>premium</th>\n",
       "      <th>renewal</th>\n",
       "    </tr>\n",
       "  </thead>\n",
       "  <tbody>\n",
       "    <tr>\n",
       "      <th>0</th>\n",
       "      <td>110936</td>\n",
       "      <td>0.429</td>\n",
       "      <td>12058</td>\n",
       "      <td>355060</td>\n",
       "      <td>0.0</td>\n",
       "      <td>0.0</td>\n",
       "      <td>0.0</td>\n",
       "      <td>99.02</td>\n",
       "      <td>13</td>\n",
       "      <td>C</td>\n",
       "      <td>Urban</td>\n",
       "      <td>3300</td>\n",
       "      <td>1</td>\n",
       "    </tr>\n",
       "    <tr>\n",
       "      <th>1</th>\n",
       "      <td>41492</td>\n",
       "      <td>0.010</td>\n",
       "      <td>21546</td>\n",
       "      <td>315150</td>\n",
       "      <td>0.0</td>\n",
       "      <td>0.0</td>\n",
       "      <td>0.0</td>\n",
       "      <td>99.89</td>\n",
       "      <td>21</td>\n",
       "      <td>A</td>\n",
       "      <td>Urban</td>\n",
       "      <td>18000</td>\n",
       "      <td>1</td>\n",
       "    </tr>\n",
       "    <tr>\n",
       "      <th>2</th>\n",
       "      <td>31300</td>\n",
       "      <td>0.917</td>\n",
       "      <td>17531</td>\n",
       "      <td>84140</td>\n",
       "      <td>2.0</td>\n",
       "      <td>3.0</td>\n",
       "      <td>1.0</td>\n",
       "      <td>98.69</td>\n",
       "      <td>7</td>\n",
       "      <td>C</td>\n",
       "      <td>Rural</td>\n",
       "      <td>3300</td>\n",
       "      <td>0</td>\n",
       "    </tr>\n",
       "    <tr>\n",
       "      <th>3</th>\n",
       "      <td>19415</td>\n",
       "      <td>0.049</td>\n",
       "      <td>15341</td>\n",
       "      <td>250510</td>\n",
       "      <td>0.0</td>\n",
       "      <td>0.0</td>\n",
       "      <td>0.0</td>\n",
       "      <td>99.57</td>\n",
       "      <td>9</td>\n",
       "      <td>A</td>\n",
       "      <td>Urban</td>\n",
       "      <td>9600</td>\n",
       "      <td>1</td>\n",
       "    </tr>\n",
       "    <tr>\n",
       "      <th>4</th>\n",
       "      <td>99379</td>\n",
       "      <td>0.052</td>\n",
       "      <td>31400</td>\n",
       "      <td>198680</td>\n",
       "      <td>0.0</td>\n",
       "      <td>0.0</td>\n",
       "      <td>0.0</td>\n",
       "      <td>99.87</td>\n",
       "      <td>12</td>\n",
       "      <td>B</td>\n",
       "      <td>Urban</td>\n",
       "      <td>9600</td>\n",
       "      <td>1</td>\n",
       "    </tr>\n",
       "  </tbody>\n",
       "</table>\n",
       "</div>"
      ],
      "text/plain": [
       "       id  perc_premium_paid_by_cash_credit  age_in_days  Income  \\\n",
       "0  110936                             0.429        12058  355060   \n",
       "1   41492                             0.010        21546  315150   \n",
       "2   31300                             0.917        17531   84140   \n",
       "3   19415                             0.049        15341  250510   \n",
       "4   99379                             0.052        31400  198680   \n",
       "\n",
       "   Count_3-6_months_late  Count_6-12_months_late  \\\n",
       "0                    0.0                     0.0   \n",
       "1                    0.0                     0.0   \n",
       "2                    2.0                     3.0   \n",
       "3                    0.0                     0.0   \n",
       "4                    0.0                     0.0   \n",
       "\n",
       "   Count_more_than_12_months_late  application_underwriting_score  \\\n",
       "0                             0.0                           99.02   \n",
       "1                             0.0                           99.89   \n",
       "2                             1.0                           98.69   \n",
       "3                             0.0                           99.57   \n",
       "4                             0.0                           99.87   \n",
       "\n",
       "   no_of_premiums_paid sourcing_channel residence_area_type  premium  renewal  \n",
       "0                   13                C               Urban     3300        1  \n",
       "1                   21                A               Urban    18000        1  \n",
       "2                    7                C               Rural     3300        0  \n",
       "3                    9                A               Urban     9600        1  \n",
       "4                   12                B               Urban     9600        1  "
      ]
     },
     "execution_count": 383,
     "metadata": {},
     "output_type": "execute_result"
    }
   ],
   "source": [
    "dftrain.head()"
   ]
  },
  {
   "cell_type": "code",
   "execution_count": 384,
   "metadata": {},
   "outputs": [
    {
     "data": {
      "text/plain": [
       "0.937409990858202"
      ]
     },
     "execution_count": 384,
     "metadata": {},
     "output_type": "execute_result"
    }
   ],
   "source": [
    "dftrain['renewal'].sum()/len(np.array(dftrain['renewal']))\n",
    "\n",
    "#Wow 94% of customers have renewed the policy. Class Imbalance"
   ]
  },
  {
   "cell_type": "code",
   "execution_count": 385,
   "metadata": {},
   "outputs": [
    {
     "data": {
      "text/plain": [
       "Urban    0.603396\n",
       "Rural    0.396604\n",
       "Name: residence_area_type, dtype: float64"
      ]
     },
     "execution_count": 385,
     "metadata": {},
     "output_type": "execute_result"
    }
   ],
   "source": [
    "dftrain['residence_area_type'].value_counts()/len(np.array(dftrain['residence_area_type']))"
   ]
  },
  {
   "cell_type": "code",
   "execution_count": 386,
   "metadata": {},
   "outputs": [
    {
     "data": {
      "text/plain": [
       "Urban    0.602151\n",
       "Rural    0.397849\n",
       "Name: residence_area_type, dtype: float64"
      ]
     },
     "execution_count": 386,
     "metadata": {},
     "output_type": "execute_result"
    }
   ],
   "source": [
    "dftest['residence_area_type'].value_counts()/len(np.array(dftest['residence_area_type']))"
   ]
  },
  {
   "cell_type": "code",
   "execution_count": 387,
   "metadata": {},
   "outputs": [
    {
     "data": {
      "text/plain": [
       "A    0.540168\n",
       "B    0.206780\n",
       "C    0.150765\n",
       "D    0.094661\n",
       "E    0.007627\n",
       "Name: sourcing_channel, dtype: float64"
      ]
     },
     "execution_count": 387,
     "metadata": {},
     "output_type": "execute_result"
    }
   ],
   "source": [
    "dftrain['sourcing_channel'].value_counts()/len(np.array(dftrain['sourcing_channel']))"
   ]
  },
  {
   "cell_type": "code",
   "execution_count": 388,
   "metadata": {},
   "outputs": [
    {
     "data": {
      "text/plain": [
       "A    0.545582\n",
       "B    0.202285\n",
       "C    0.150362\n",
       "D    0.094144\n",
       "E    0.007626\n",
       "Name: sourcing_channel, dtype: float64"
      ]
     },
     "execution_count": 388,
     "metadata": {},
     "output_type": "execute_result"
    }
   ],
   "source": [
    "dftest['sourcing_channel'].value_counts()/len(np.array(dftest['sourcing_channel']))"
   ]
  },
  {
   "cell_type": "code",
   "execution_count": 389,
   "metadata": {},
   "outputs": [
    {
     "data": {
      "text/html": [
       "<div>\n",
       "<style>\n",
       "    .dataframe thead tr:only-child th {\n",
       "        text-align: right;\n",
       "    }\n",
       "\n",
       "    .dataframe thead th {\n",
       "        text-align: left;\n",
       "    }\n",
       "\n",
       "    .dataframe tbody tr th {\n",
       "        vertical-align: top;\n",
       "    }\n",
       "</style>\n",
       "<table border=\"1\" class=\"dataframe\">\n",
       "  <thead>\n",
       "    <tr style=\"text-align: right;\">\n",
       "      <th></th>\n",
       "      <th>premium</th>\n",
       "      <th>perc_premium_paid_by_cash_credit</th>\n",
       "      <th>Count_more_than_12_months_late</th>\n",
       "      <th>no_of_premiums_paid</th>\n",
       "      <th>Count_6-12_months_late</th>\n",
       "      <th>application_underwriting_score</th>\n",
       "      <th>Income</th>\n",
       "      <th>age_in_days</th>\n",
       "      <th>Count_3-6_months_late</th>\n",
       "    </tr>\n",
       "  </thead>\n",
       "  <tbody>\n",
       "    <tr>\n",
       "      <th>count</th>\n",
       "      <td>79853.000000</td>\n",
       "      <td>79853.000000</td>\n",
       "      <td>79756.000000</td>\n",
       "      <td>79853.000000</td>\n",
       "      <td>79756.000000</td>\n",
       "      <td>76879.000000</td>\n",
       "      <td>7.985300e+04</td>\n",
       "      <td>79853.000000</td>\n",
       "      <td>79756.000000</td>\n",
       "    </tr>\n",
       "    <tr>\n",
       "      <th>mean</th>\n",
       "      <td>10924.507533</td>\n",
       "      <td>0.314288</td>\n",
       "      <td>0.060008</td>\n",
       "      <td>10.863887</td>\n",
       "      <td>0.078188</td>\n",
       "      <td>99.067291</td>\n",
       "      <td>2.088472e+05</td>\n",
       "      <td>18846.696906</td>\n",
       "      <td>0.248671</td>\n",
       "    </tr>\n",
       "    <tr>\n",
       "      <th>std</th>\n",
       "      <td>9401.676542</td>\n",
       "      <td>0.334915</td>\n",
       "      <td>0.312023</td>\n",
       "      <td>5.170687</td>\n",
       "      <td>0.436507</td>\n",
       "      <td>0.739799</td>\n",
       "      <td>4.965826e+05</td>\n",
       "      <td>5208.719136</td>\n",
       "      <td>0.691468</td>\n",
       "    </tr>\n",
       "    <tr>\n",
       "      <th>min</th>\n",
       "      <td>1200.000000</td>\n",
       "      <td>0.000000</td>\n",
       "      <td>0.000000</td>\n",
       "      <td>2.000000</td>\n",
       "      <td>0.000000</td>\n",
       "      <td>91.900000</td>\n",
       "      <td>2.403000e+04</td>\n",
       "      <td>7670.000000</td>\n",
       "      <td>0.000000</td>\n",
       "    </tr>\n",
       "    <tr>\n",
       "      <th>25%</th>\n",
       "      <td>5400.000000</td>\n",
       "      <td>0.034000</td>\n",
       "      <td>0.000000</td>\n",
       "      <td>7.000000</td>\n",
       "      <td>0.000000</td>\n",
       "      <td>98.810000</td>\n",
       "      <td>1.080100e+05</td>\n",
       "      <td>14974.000000</td>\n",
       "      <td>0.000000</td>\n",
       "    </tr>\n",
       "    <tr>\n",
       "      <th>50%</th>\n",
       "      <td>7500.000000</td>\n",
       "      <td>0.167000</td>\n",
       "      <td>0.000000</td>\n",
       "      <td>10.000000</td>\n",
       "      <td>0.000000</td>\n",
       "      <td>99.210000</td>\n",
       "      <td>1.665600e+05</td>\n",
       "      <td>18625.000000</td>\n",
       "      <td>0.000000</td>\n",
       "    </tr>\n",
       "    <tr>\n",
       "      <th>75%</th>\n",
       "      <td>13800.000000</td>\n",
       "      <td>0.538000</td>\n",
       "      <td>0.000000</td>\n",
       "      <td>14.000000</td>\n",
       "      <td>0.000000</td>\n",
       "      <td>99.540000</td>\n",
       "      <td>2.520900e+05</td>\n",
       "      <td>22636.000000</td>\n",
       "      <td>0.000000</td>\n",
       "    </tr>\n",
       "    <tr>\n",
       "      <th>max</th>\n",
       "      <td>60000.000000</td>\n",
       "      <td>1.000000</td>\n",
       "      <td>11.000000</td>\n",
       "      <td>60.000000</td>\n",
       "      <td>17.000000</td>\n",
       "      <td>99.890000</td>\n",
       "      <td>9.026260e+07</td>\n",
       "      <td>37602.000000</td>\n",
       "      <td>13.000000</td>\n",
       "    </tr>\n",
       "  </tbody>\n",
       "</table>\n",
       "</div>"
      ],
      "text/plain": [
       "            premium  perc_premium_paid_by_cash_credit  \\\n",
       "count  79853.000000                      79853.000000   \n",
       "mean   10924.507533                          0.314288   \n",
       "std     9401.676542                          0.334915   \n",
       "min     1200.000000                          0.000000   \n",
       "25%     5400.000000                          0.034000   \n",
       "50%     7500.000000                          0.167000   \n",
       "75%    13800.000000                          0.538000   \n",
       "max    60000.000000                          1.000000   \n",
       "\n",
       "       Count_more_than_12_months_late  no_of_premiums_paid  \\\n",
       "count                    79756.000000         79853.000000   \n",
       "mean                         0.060008            10.863887   \n",
       "std                          0.312023             5.170687   \n",
       "min                          0.000000             2.000000   \n",
       "25%                          0.000000             7.000000   \n",
       "50%                          0.000000            10.000000   \n",
       "75%                          0.000000            14.000000   \n",
       "max                         11.000000            60.000000   \n",
       "\n",
       "       Count_6-12_months_late  application_underwriting_score        Income  \\\n",
       "count            79756.000000                    76879.000000  7.985300e+04   \n",
       "mean                 0.078188                       99.067291  2.088472e+05   \n",
       "std                  0.436507                        0.739799  4.965826e+05   \n",
       "min                  0.000000                       91.900000  2.403000e+04   \n",
       "25%                  0.000000                       98.810000  1.080100e+05   \n",
       "50%                  0.000000                       99.210000  1.665600e+05   \n",
       "75%                  0.000000                       99.540000  2.520900e+05   \n",
       "max                 17.000000                       99.890000  9.026260e+07   \n",
       "\n",
       "        age_in_days  Count_3-6_months_late  \n",
       "count  79853.000000           79756.000000  \n",
       "mean   18846.696906               0.248671  \n",
       "std     5208.719136               0.691468  \n",
       "min     7670.000000               0.000000  \n",
       "25%    14974.000000               0.000000  \n",
       "50%    18625.000000               0.000000  \n",
       "75%    22636.000000               0.000000  \n",
       "max    37602.000000              13.000000  "
      ]
     },
     "execution_count": 389,
     "metadata": {},
     "output_type": "execute_result"
    }
   ],
   "source": [
    "dftrain[train_features].drop(['residence_area_type','sourcing_channel'],axis=1).describe()"
   ]
  },
  {
   "cell_type": "code",
   "execution_count": 390,
   "metadata": {},
   "outputs": [
    {
     "data": {
      "text/html": [
       "<div>\n",
       "<style>\n",
       "    .dataframe thead tr:only-child th {\n",
       "        text-align: right;\n",
       "    }\n",
       "\n",
       "    .dataframe thead th {\n",
       "        text-align: left;\n",
       "    }\n",
       "\n",
       "    .dataframe tbody tr th {\n",
       "        vertical-align: top;\n",
       "    }\n",
       "</style>\n",
       "<table border=\"1\" class=\"dataframe\">\n",
       "  <thead>\n",
       "    <tr style=\"text-align: right;\">\n",
       "      <th></th>\n",
       "      <th>premium</th>\n",
       "      <th>perc_premium_paid_by_cash_credit</th>\n",
       "      <th>Count_more_than_12_months_late</th>\n",
       "      <th>no_of_premiums_paid</th>\n",
       "      <th>Count_6-12_months_late</th>\n",
       "      <th>application_underwriting_score</th>\n",
       "      <th>Income</th>\n",
       "      <th>age_in_days</th>\n",
       "      <th>Count_3-6_months_late</th>\n",
       "    </tr>\n",
       "  </thead>\n",
       "  <tbody>\n",
       "    <tr>\n",
       "      <th>count</th>\n",
       "      <td>34224.000000</td>\n",
       "      <td>34224.000000</td>\n",
       "      <td>34193.000000</td>\n",
       "      <td>34224.000000</td>\n",
       "      <td>34193.000000</td>\n",
       "      <td>32901.000000</td>\n",
       "      <td>3.422400e+04</td>\n",
       "      <td>34224.000000</td>\n",
       "      <td>34193.000000</td>\n",
       "    </tr>\n",
       "    <tr>\n",
       "      <th>mean</th>\n",
       "      <td>10834.721248</td>\n",
       "      <td>0.314457</td>\n",
       "      <td>0.058111</td>\n",
       "      <td>10.890428</td>\n",
       "      <td>0.080718</td>\n",
       "      <td>99.061898</td>\n",
       "      <td>2.028201e+05</td>\n",
       "      <td>18824.215346</td>\n",
       "      <td>0.238733</td>\n",
       "    </tr>\n",
       "    <tr>\n",
       "      <th>std</th>\n",
       "      <td>9263.074506</td>\n",
       "      <td>0.334059</td>\n",
       "      <td>0.307046</td>\n",
       "      <td>5.216867</td>\n",
       "      <td>0.454634</td>\n",
       "      <td>0.742942</td>\n",
       "      <td>2.702536e+05</td>\n",
       "      <td>5246.525604</td>\n",
       "      <td>0.686162</td>\n",
       "    </tr>\n",
       "    <tr>\n",
       "      <th>min</th>\n",
       "      <td>1200.000000</td>\n",
       "      <td>0.000000</td>\n",
       "      <td>0.000000</td>\n",
       "      <td>2.000000</td>\n",
       "      <td>0.000000</td>\n",
       "      <td>91.900000</td>\n",
       "      <td>2.403000e+04</td>\n",
       "      <td>7671.000000</td>\n",
       "      <td>0.000000</td>\n",
       "    </tr>\n",
       "    <tr>\n",
       "      <th>25%</th>\n",
       "      <td>5400.000000</td>\n",
       "      <td>0.034000</td>\n",
       "      <td>0.000000</td>\n",
       "      <td>7.000000</td>\n",
       "      <td>0.000000</td>\n",
       "      <td>98.800000</td>\n",
       "      <td>1.063975e+05</td>\n",
       "      <td>14972.000000</td>\n",
       "      <td>0.000000</td>\n",
       "    </tr>\n",
       "    <tr>\n",
       "      <th>50%</th>\n",
       "      <td>7500.000000</td>\n",
       "      <td>0.169000</td>\n",
       "      <td>0.000000</td>\n",
       "      <td>10.000000</td>\n",
       "      <td>0.000000</td>\n",
       "      <td>99.210000</td>\n",
       "      <td>1.650700e+05</td>\n",
       "      <td>18623.000000</td>\n",
       "      <td>0.000000</td>\n",
       "    </tr>\n",
       "    <tr>\n",
       "      <th>75%</th>\n",
       "      <td>13800.000000</td>\n",
       "      <td>0.540000</td>\n",
       "      <td>0.000000</td>\n",
       "      <td>14.000000</td>\n",
       "      <td>0.000000</td>\n",
       "      <td>99.530000</td>\n",
       "      <td>2.500200e+05</td>\n",
       "      <td>22636.000000</td>\n",
       "      <td>0.000000</td>\n",
       "    </tr>\n",
       "    <tr>\n",
       "      <th>max</th>\n",
       "      <td>60000.000000</td>\n",
       "      <td>1.000000</td>\n",
       "      <td>7.000000</td>\n",
       "      <td>59.000000</td>\n",
       "      <td>10.000000</td>\n",
       "      <td>99.890000</td>\n",
       "      <td>2.191455e+07</td>\n",
       "      <td>35785.000000</td>\n",
       "      <td>12.000000</td>\n",
       "    </tr>\n",
       "  </tbody>\n",
       "</table>\n",
       "</div>"
      ],
      "text/plain": [
       "            premium  perc_premium_paid_by_cash_credit  \\\n",
       "count  34224.000000                      34224.000000   \n",
       "mean   10834.721248                          0.314457   \n",
       "std     9263.074506                          0.334059   \n",
       "min     1200.000000                          0.000000   \n",
       "25%     5400.000000                          0.034000   \n",
       "50%     7500.000000                          0.169000   \n",
       "75%    13800.000000                          0.540000   \n",
       "max    60000.000000                          1.000000   \n",
       "\n",
       "       Count_more_than_12_months_late  no_of_premiums_paid  \\\n",
       "count                    34193.000000         34224.000000   \n",
       "mean                         0.058111            10.890428   \n",
       "std                          0.307046             5.216867   \n",
       "min                          0.000000             2.000000   \n",
       "25%                          0.000000             7.000000   \n",
       "50%                          0.000000            10.000000   \n",
       "75%                          0.000000            14.000000   \n",
       "max                          7.000000            59.000000   \n",
       "\n",
       "       Count_6-12_months_late  application_underwriting_score        Income  \\\n",
       "count            34193.000000                    32901.000000  3.422400e+04   \n",
       "mean                 0.080718                       99.061898  2.028201e+05   \n",
       "std                  0.454634                        0.742942  2.702536e+05   \n",
       "min                  0.000000                       91.900000  2.403000e+04   \n",
       "25%                  0.000000                       98.800000  1.063975e+05   \n",
       "50%                  0.000000                       99.210000  1.650700e+05   \n",
       "75%                  0.000000                       99.530000  2.500200e+05   \n",
       "max                 10.000000                       99.890000  2.191455e+07   \n",
       "\n",
       "        age_in_days  Count_3-6_months_late  \n",
       "count  34224.000000           34193.000000  \n",
       "mean   18824.215346               0.238733  \n",
       "std     5246.525604               0.686162  \n",
       "min     7671.000000               0.000000  \n",
       "25%    14972.000000               0.000000  \n",
       "50%    18623.000000               0.000000  \n",
       "75%    22636.000000               0.000000  \n",
       "max    35785.000000              12.000000  "
      ]
     },
     "execution_count": 390,
     "metadata": {},
     "output_type": "execute_result"
    }
   ],
   "source": [
    "dftest[train_features].drop(['residence_area_type','sourcing_channel'],axis=1).describe()"
   ]
  },
  {
   "cell_type": "code",
   "execution_count": 391,
   "metadata": {
    "collapsed": true
   },
   "outputs": [],
   "source": [
    "#distributions for train and test variables look similar"
   ]
  },
  {
   "cell_type": "code",
   "execution_count": 392,
   "metadata": {},
   "outputs": [
    {
     "data": {
      "text/plain": [
       "<matplotlib.axes._subplots.AxesSubplot at 0x1a2042beb8>"
      ]
     },
     "execution_count": 392,
     "metadata": {},
     "output_type": "execute_result"
    },
    {
     "data": {
      "image/png": "[encoded data removed]",
      "text/plain": [
       "<Figure size 1296x1296 with 2 Axes>"
      ]
     },
     "metadata": {},
     "output_type": "display_data"
    }
   ],
   "source": [
    "#Visualizations\n",
    "corrset=dftrain._get_numeric_data().columns.values.tolist()\n",
    "           \n",
    "#correlation map\n",
    "f,ax = plt.subplots(figsize=(18, 18))\n",
    "sns.heatmap(dftrain[corrset].corr(), annot=True, linewidths=.5, fmt= '.1f',ax=ax)"
   ]
  },
  {
   "cell_type": "code",
   "execution_count": 393,
   "metadata": {
    "collapsed": true
   },
   "outputs": [],
   "source": [
    "applt_nums=dftrain[train_features]._get_numeric_data().columns.values.tolist()\n",
    "applt_vars=set(dftrain[train_features].columns.values.tolist())-set(dftrain[train_features]._get_numeric_data().columns.values.tolist())"
   ]
  },
  {
   "cell_type": "code",
   "execution_count": 394,
   "metadata": {},
   "outputs": [
    {
     "data": {
      "image/png": "[encoded data removed]",
      "text/plain": [
       "<Figure size 1440x3600 with 8 Axes>"
      ]
     },
     "metadata": {},
     "output_type": "display_data"
    }
   ],
   "source": [
    "fig, axes = plt.subplots(nrows=round(len(applt_nums)/2), ncols=2,figsize=(20,50))\n",
    "i=0\n",
    "j=0\n",
    "for item in applt_nums:\n",
    "    sns.distplot(dftrain.loc[(dftrain['renewal']==0)][item].dropna(),ax=axes[i,j]); axes[i,j].set_title(item);\n",
    "    sns.distplot(dftrain.loc[(dftrain['renewal']==1)][item].dropna(),ax=axes[i,j]); axes[i,j].set_title(item);\n",
    "    if i == round(len(applt_nums)/2)-1: \n",
    "        i=0\n",
    "        j=1\n",
    "    else: i=i+1"
   ]
  },
  {
   "cell_type": "code",
   "execution_count": 395,
   "metadata": {},
   "outputs": [
    {
     "data": {
      "text/plain": [
       "<matplotlib.axes._subplots.AxesSubplot at 0x1a21e21438>"
      ]
     },
     "execution_count": 395,
     "metadata": {},
     "output_type": "execute_result"
    },
    {
     "data": {
      "image/png": "[encoded data removed]",
      "text/plain": [
       "<Figure size 432x288 with 1 Axes>"
      ]
     },
     "metadata": {},
     "output_type": "display_data"
    }
   ],
   "source": [
    "# Define a function for a bar plot\n",
    "\n",
    "#sns.barplot(x=\"residence_area_type\", y=\"renewal\", data=dftrain, ci=68)\n",
    "#sns.barplot(x=\"sourcing_channel\", y=\"renewal\", data=dftrain, ci=68)\n",
    "sns.barplot(x='sourcing_channel',y='renewal', data=dftrain)\n"
   ]
  },
  {
   "cell_type": "code",
   "execution_count": 396,
   "metadata": {},
   "outputs": [
    {
     "data": {
      "text/plain": [
       "<matplotlib.collections.PathCollection at 0x1a22548198>"
      ]
     },
     "execution_count": 396,
     "metadata": {},
     "output_type": "execute_result"
    },
    {
     "data": {
      "image/png": "[encoded data removed]",
      "text/plain": [
       "<Figure size 432x288 with 1 Axes>"
      ]
     },
     "metadata": {},
     "output_type": "display_data"
    }
   ],
   "source": [
    "plt.scatter(dftrain['application_underwriting_score'],dftrain['no_of_premiums_paid'])"
   ]
  },
  {
   "cell_type": "code",
   "execution_count": 397,
   "metadata": {},
   "outputs": [
    {
     "data": {
      "text/plain": [
       "LinearRegression(copy_X=True, fit_intercept=True, n_jobs=1, normalize=False)"
      ]
     },
     "execution_count": 397,
     "metadata": {},
     "output_type": "execute_result"
    }
   ],
   "source": [
    "from sklearn.linear_model import LinearRegression\n",
    "\n",
    "lr=LinearRegression()\n",
    "lr.fit(dftrain.loc[dftrain['application_underwriting_score'].notnull()]['no_of_premiums_paid'].reshape(76879,1),\n",
    "       dftrain.loc[dftrain['application_underwriting_score'].notnull()]['application_underwriting_score'].reshape(76879,1))"
   ]
  },
  {
   "cell_type": "code",
   "execution_count": 398,
   "metadata": {},
   "outputs": [
    {
     "data": {
      "text/plain": [
       "99.500786468411164"
      ]
     },
     "execution_count": 398,
     "metadata": {},
     "output_type": "execute_result"
    }
   ],
   "source": [
    "lr.coef_[0][0]\n",
    "lr.intercept_[0]"
   ]
  },
  {
   "cell_type": "code",
   "execution_count": 399,
   "metadata": {
    "collapsed": true
   },
   "outputs": [],
   "source": [
    "#feature_engineering\n",
    "dftrain['application_underwriting_score']=np.where(dftrain['application_underwriting_score'].isnull(),lr.intercept_[0]+lr.coef_[0][0]*dftrain['no_of_premiums_paid'],dftrain['application_underwriting_score'])\n",
    "dftrain['missed_payments']=dftrain[[ 'Count_3-6_months_late','Count_6-12_months_late','Count_more_than_12_months_late']].sum(axis=1)\n",
    "dftrain['l_age_in_days']=np.log(dftrain['age_in_days']+1)\n",
    "dftrain['l_Income']=np.log(dftrain['Income']+1)\n",
    "dftrain['l_application_underwriting_score']=np.log(dftrain['application_underwriting_score']+1)\n",
    "dftrain['l_no_of_premiums_paid']=np.log(dftrain['no_of_premiums_paid']+1)\n",
    "dftrain['l_perc_premium_paid_by_cash_credit']=np.log(dftrain['perc_premium_paid_by_cash_credit']+1)\n",
    "dftrain['l_premium']=np.log(dftrain['premium']+1)\n",
    "dftrain=dftrain.fillna(-99)\n",
    "dftrain['l_missed_payments']=np.log(dftrain['missed_payments']+1)\n",
    "dftrain=dftrain.fillna(-99)\n",
    "\n",
    "dummies=pd.get_dummies(dftrain['residence_area_type'],prefix='ra')\n",
    "#dftrain=pd.concat([dftrain,dummies],axis=1)\n",
    "\n",
    "dummies=pd.get_dummies(dftrain['sourcing_channel'],prefix='channel')\n",
    "#dftrain=pd.concat([dftrain,dummies],axis=1)\n"
   ]
  },
  {
   "cell_type": "code",
   "execution_count": 400,
   "metadata": {
    "collapsed": true
   },
   "outputs": [],
   "source": [
    "exclu=['id','sourcing_channel','residence_area_type','age_in_days','Income','application_underwriting_score',\n",
    "      'no_of_premiums_paid','perc_premium_paid_by_cash_credit','premium','l_missed_payments'\n",
    "      ]\n",
    "label=['renewal']\n",
    "train_features=list(set(dftrain.columns.values.tolist()) - set(label)-set(exclu))"
   ]
  },
  {
   "cell_type": "code",
   "execution_count": 25,
   "metadata": {
    "collapsed": true
   },
   "outputs": [],
   "source": [
    "from sklearn.model_selection import KFold\n",
    "from sklearn.model_selection import cross_val_score \n",
    "\n",
    "skf = KFold(n_splits=5,shuffle=False, random_state=123)\n",
    "\n",
    "skf.get_n_splits(np.array(dftrain[train_features]), np.array(dftrain[label]).flatten())\n",
    "\n",
    "i=1\n",
    "train_indices=dict()\n",
    "test_indices=dict()\n",
    "for train_index, test_index in skf.split(np.array(dftrain[train_features]), np.array(dftrain[label]).flatten()):    \n",
    "    train_indices[i]=train_index\n",
    "    test_indices[i]=test_index\n",
    "    i=i+1"
   ]
  },
  {
   "cell_type": "code",
   "execution_count": 175,
   "metadata": {},
   "outputs": [
    {
     "data": {
      "text/plain": [
       "GridSearchCV(cv=5, error_score='raise',\n",
       "       estimator=RandomForestClassifier(bootstrap=True, class_weight=None, criterion='gini',\n",
       "            max_depth=None, max_features='auto', max_leaf_nodes=None,\n",
       "            min_impurity_decrease=0.0, min_impurity_split=None,\n",
       "            min_samples_leaf=1, min_samples_split=2,\n",
       "            min_weight_fraction_leaf=0.0, n_estimators=10, n_jobs=1,\n",
       "            oob_score=False, random_state=None, verbose=0,\n",
       "            warm_start=False),\n",
       "       fit_params=None, iid=True, n_jobs=5,\n",
       "       param_grid={'n_estimators': range(21, 35), 'max_depth': range(4, 14)},\n",
       "       pre_dispatch='2*n_jobs', refit=True, return_train_score=False,\n",
       "       scoring='roc_auc', verbose=0)"
      ]
     },
     "execution_count": 175,
     "metadata": {},
     "output_type": "execute_result"
    }
   ],
   "source": [
    "parameters = {'n_estimators':range(21,35),'max_depth':range(4,14)} # 33, 9\n",
    "\n",
    "rf = RandomForestClassifier()\n",
    "\n",
    "rfcv = GridSearchCV(rf, parameters,cv=5,scoring=\"roc_auc\",n_jobs=5, return_train_score=False)\n",
    "rfcv.fit(dftrain[train_features],np.array(dftrain[label]).flatten())"
   ]
  },
  {
   "cell_type": "code",
   "execution_count": 177,
   "metadata": {},
   "outputs": [
    {
     "data": {
      "text/plain": [
       "{'max_depth': 7, 'n_estimators': 33}"
      ]
     },
     "execution_count": 177,
     "metadata": {},
     "output_type": "execute_result"
    }
   ],
   "source": [
    "rfcv.best_params_"
   ]
  },
  {
   "cell_type": "code",
   "execution_count": 26,
   "metadata": {},
   "outputs": [
    {
     "name": "stdout",
     "output_type": "stream",
     "text": [
      "AUC: [ 0.83904511  0.83460217  0.83383504  0.84048552  0.83066106]\n",
      "Mean AUC: 0.835725782175\n",
      "Median AUC: 0.834602171965\n"
     ]
    }
   ],
   "source": [
    "model1=RandomForestClassifier(n_estimators=33,max_depth=7)\n",
    "\n",
    "result = cross_val_score(model1,dftrain[train_features], np.array(dftrain[label]).flatten(), cv=skf, scoring='roc_auc')\n",
    "\n",
    "print(\"AUC:\", result)\n",
    "print(\"Mean AUC:\", result.mean())\n",
    "print(\"Median AUC:\", np.median(result))"
   ]
  },
  {
   "cell_type": "code",
   "execution_count": 27,
   "metadata": {
    "collapsed": true
   },
   "outputs": [],
   "source": [
    "rf = RandomForestClassifier(n_estimators=33,max_depth=9)\n",
    "m=rf.fit(dftrain[train_features],np.array(dftrain[label]).flatten())"
   ]
  },
  {
   "cell_type": "code",
   "execution_count": 28,
   "metadata": {
    "collapsed": true
   },
   "outputs": [],
   "source": [
    "feat_imp=pd.concat([pd.DataFrame(train_features,columns=['feature']),\n",
    "                    pd.DataFrame(m.feature_importances_,columns=['importance'])],axis=1)\n",
    "feat_imp.sort_values(\"importance\", inplace=True,ascending=False)\n",
    "important_features=list(feat_imp[feat_imp['importance']>0]['feature'])"
   ]
  },
  {
   "cell_type": "code",
   "execution_count": 29,
   "metadata": {},
   "outputs": [
    {
     "data": {
      "text/html": [
       "<div>\n",
       "<style>\n",
       "    .dataframe thead tr:only-child th {\n",
       "        text-align: right;\n",
       "    }\n",
       "\n",
       "    .dataframe thead th {\n",
       "        text-align: left;\n",
       "    }\n",
       "\n",
       "    .dataframe tbody tr th {\n",
       "        vertical-align: top;\n",
       "    }\n",
       "</style>\n",
       "<table border=\"1\" class=\"dataframe\">\n",
       "  <thead>\n",
       "    <tr style=\"text-align: right;\">\n",
       "      <th></th>\n",
       "      <th>feature</th>\n",
       "      <th>importance</th>\n",
       "    </tr>\n",
       "  </thead>\n",
       "  <tbody>\n",
       "    <tr>\n",
       "      <th>0</th>\n",
       "      <td>l_missed_payments</td>\n",
       "      <td>0.470015</td>\n",
       "    </tr>\n",
       "    <tr>\n",
       "      <th>3</th>\n",
       "      <td>l_perc_premium_paid_by_cash_credit</td>\n",
       "      <td>0.217836</td>\n",
       "    </tr>\n",
       "    <tr>\n",
       "      <th>1</th>\n",
       "      <td>l_Income</td>\n",
       "      <td>0.108841</td>\n",
       "    </tr>\n",
       "    <tr>\n",
       "      <th>2</th>\n",
       "      <td>l_age_in_days</td>\n",
       "      <td>0.103118</td>\n",
       "    </tr>\n",
       "    <tr>\n",
       "      <th>4</th>\n",
       "      <td>l_application_underwriting_score</td>\n",
       "      <td>0.100191</td>\n",
       "    </tr>\n",
       "  </tbody>\n",
       "</table>\n",
       "</div>"
      ],
      "text/plain": [
       "                              feature  importance\n",
       "0                   l_missed_payments    0.470015\n",
       "3  l_perc_premium_paid_by_cash_credit    0.217836\n",
       "1                            l_Income    0.108841\n",
       "2                       l_age_in_days    0.103118\n",
       "4    l_application_underwriting_score    0.100191"
      ]
     },
     "execution_count": 29,
     "metadata": {},
     "output_type": "execute_result"
    }
   ],
   "source": [
    "feat_imp"
   ]
  },
  {
   "cell_type": "code",
   "execution_count": 30,
   "metadata": {},
   "outputs": [
    {
     "name": "stdout",
     "output_type": "stream",
     "text": [
      "AUC: [ 0.83757194  0.83517324  0.83294663  0.84137404  0.82991384]\n",
      "Mean AUC: 0.835395939533\n",
      "Median AUC: 0.83517323708\n"
     ]
    }
   ],
   "source": [
    "from sklearn.neural_network import MLPClassifier\n",
    "from sklearn.ensemble import BaggingClassifier\n",
    "model2=MLPClassifier(hidden_layer_sizes=(5,),activation='logistic',solver='lbfgs',learning_rate='adaptive',alpha=0.0001)\n",
    "\n",
    "result = cross_val_score(model2,scale(dftrain[train_features]), np.array(dftrain[label]).flatten(), cv=skf, scoring='roc_auc')\n",
    "\n",
    "print(\"AUC:\", result)\n",
    "print(\"Mean AUC:\", result.mean())\n",
    "print(\"Median AUC:\", np.median(result))"
   ]
  },
  {
   "cell_type": "code",
   "execution_count": 376,
   "metadata": {
    "collapsed": true
   },
   "outputs": [],
   "source": [
    "from sklearn.model_selection import train_test_split\n",
    "X_train, X_test, y_train, y_test = train_test_split(dftrain[train_features], dftrain[label]\n",
    "                                                    , test_size=0.3, random_state=123)\n",
    "s_train=scale(X_train)\n",
    "s_test=scale(X_test)"
   ]
  },
  {
   "cell_type": "code",
   "execution_count": 401,
   "metadata": {},
   "outputs": [
    {
     "name": "stdout",
     "output_type": "stream",
     "text": [
      "Training until validation scores don't improve for 100 rounds.\n",
      "[100]\ttraining's auc: 0.848771\tvalid_1's auc: 0.836151\n",
      "[200]\ttraining's auc: 0.85145\tvalid_1's auc: 0.837671\n",
      "[300]\ttraining's auc: 0.85428\tvalid_1's auc: 0.838421\n",
      "[400]\ttraining's auc: 0.856414\tvalid_1's auc: 0.838834\n",
      "[500]\ttraining's auc: 0.85829\tvalid_1's auc: 0.83963\n",
      "[600]\ttraining's auc: 0.860442\tvalid_1's auc: 0.840066\n",
      "[700]\ttraining's auc: 0.862362\tvalid_1's auc: 0.840327\n",
      "[800]\ttraining's auc: 0.864745\tvalid_1's auc: 0.840465\n",
      "[900]\ttraining's auc: 0.867179\tvalid_1's auc: 0.8405\n",
      "[1000]\ttraining's auc: 0.869659\tvalid_1's auc: 0.840448\n",
      "Early stopping, best iteration is:\n",
      "[940]\ttraining's auc: 0.868215\tvalid_1's auc: 0.840553\n",
      "LightGBM Training Completed...\n"
     ]
    }
   ],
   "source": [
    "import lightgbm as lgb\n",
    "\n",
    "def lgb_run(X_train,y_train, val_X, val_y):\n",
    "    params = {}\n",
    "    params['learning_rate'] = 0.004\n",
    "    params['boosting_type'] = 'gbdt'\n",
    "    params['objective'] = 'binary'\n",
    "    params['metric'] = 'auc'\n",
    "    params['num_leaves'] = 25\n",
    "    params['max_depth'] = -1\n",
    "    params['feature_fraction'] = 0.5\n",
    "    params['bagging_fraction'] = 0.5\n",
    "    params['verbosity'] = -1\n",
    "    params['random_seed']= 42\n",
    "    params['bagging_seed']= 42\n",
    "    params['bagging_frequency'] =5\n",
    "    #params['num_iteration']=1065\n",
    "    \n",
    "    lgtrain = lgb.Dataset(X_train, label=y_train)\n",
    "    lgval = lgb.Dataset(val_X, label=val_y)\n",
    "    evals_result = {}\n",
    "    model = lgb.train(params, lgtrain, 5000,\n",
    "                      valid_sets=[lgtrain,lgval], \n",
    "                      early_stopping_rounds=100, \n",
    "                      verbose_eval=100, \n",
    "                      evals_result=evals_result)\n",
    "    \n",
    "    #pred_test_y = np.expm1(model.predict(test_X, num_iteration=model.best_iteration))\n",
    "    return  model, evals_result\n",
    "\n",
    "model7, evals_result7 = lgb_run(X_train, np.array(y_train).flatten(), X_test, np.array(y_test).flatten())\n",
    "print(\"LightGBM Training Completed...\")\n"
   ]
  },
  {
   "cell_type": "code",
   "execution_count": 404,
   "metadata": {
    "collapsed": true
   },
   "outputs": [],
   "source": [
    "dftest['renewal']=model7.predict(dftest[train_features])"
   ]
  },
  {
   "cell_type": "code",
   "execution_count": 34,
   "metadata": {},
   "outputs": [
    {
     "name": "stdout",
     "output_type": "stream",
     "text": [
      "[0]\tTest-auc:0.802691\n",
      "Will train until Test-auc hasn't improved in 10 rounds.\n",
      "[20]\tTest-auc:0.826987\n",
      "[40]\tTest-auc:0.830345\n",
      "[60]\tTest-auc:0.831426\n",
      "[80]\tTest-auc:0.831928\n",
      "Stopping. Best iteration:\n",
      "[88]\tTest-auc:0.832174\n",
      "\n",
      "Best RMSE: 0.83 with 89 rounds\n"
     ]
    }
   ],
   "source": [
    "import xgboost as xgb\n",
    "\n",
    "### load data in do training\n",
    "dtrain = xgb.DMatrix(X_train, label=y_train)\n",
    "dtest = xgb.DMatrix(X_test, label=y_test)\n",
    "params = {\n",
    "    # Parameters that we are going to tune.\n",
    "    'max_depth':3,\n",
    "    'min_child_weight': 6,\n",
    "    'eta':0.1,\n",
    "    'subsample': 0.7,\n",
    "    'colsample_bytree': 0.9,\n",
    "    'silent': 1,\n",
    "    # Other parameters\n",
    "    'objective':'binary:logistic',\n",
    "}\n",
    "params['eval_metric'] = \"auc\"\n",
    "num_boost_round = 999\n",
    "\n",
    "model8 = xgb.train(\n",
    "    params,\n",
    "    dtrain,\n",
    "    num_boost_round=num_boost_round,\n",
    "    evals=[(dtest, \"Test\")],\n",
    "    early_stopping_rounds=10,\n",
    "    verbose_eval=20\n",
    ")\n",
    "\n",
    "print(\"Best RMSE: {:.2f} with {} rounds\".format(\n",
    "                 model8.best_score,\n",
    "                 model8.best_iteration+1))"
   ]
  },
  {
   "cell_type": "code",
   "execution_count": 35,
   "metadata": {},
   "outputs": [
    {
     "name": "stdout",
     "output_type": "stream",
     "text": [
      "{'alpha': 1e-07}\n",
      "0.828897719658\n"
     ]
    }
   ],
   "source": [
    "from sklearn.linear_model import RidgeClassifier\n",
    "\n",
    "parameters = {'alpha':[0.1,0.05,0.01,0.0000001,0]}\n",
    "\n",
    "ridge = RidgeClassifier()\n",
    "\n",
    "ridgecv = GridSearchCV(ridge, parameters,cv=5,scoring=\"roc_auc\",n_jobs=5, return_train_score=False)\n",
    "ridgecv.fit(dftrain[train_features],np.array(dftrain[label]).flatten())\n",
    "print(ridgecv.best_params_)\n",
    "print(ridgecv.best_score_)"
   ]
  },
  {
   "cell_type": "code",
   "execution_count": 36,
   "metadata": {},
   "outputs": [
    {
     "name": "stdout",
     "output_type": "stream",
     "text": [
      "AUC: [ 0.83177185  0.82835135  0.82672747  0.8350445   0.82248392]\n",
      "Mean AUC: 0.828875818006\n",
      "Median AUC: 0.828351349488\n"
     ]
    }
   ],
   "source": [
    "model3=RidgeClassifier(alpha=0)\n",
    "result = cross_val_score(model3,dftrain[train_features], np.array(dftrain[label]).flatten(), cv=skf, scoring='roc_auc')\n",
    "\n",
    "print(\"AUC:\", result)\n",
    "print(\"Mean AUC:\", result.mean())\n",
    "print(\"Median AUC:\", np.median(result))"
   ]
  },
  {
   "cell_type": "code",
   "execution_count": 37,
   "metadata": {},
   "outputs": [
    {
     "name": "stdout",
     "output_type": "stream",
     "text": [
      "{'C': 0.05}\n",
      "0.829600594842\n"
     ]
    }
   ],
   "source": [
    "from sklearn.linear_model import LogisticRegression\n",
    "\n",
    "parameters = {'C':[0.05,0.01,0.02]}\n",
    "lgr=LogisticRegression(penalty='l2')\n",
    "lgrcv = GridSearchCV(lgr, parameters,cv=5,scoring=\"roc_auc\",n_jobs=5, return_train_score=False)\n",
    "lgrcv.fit(dftrain[train_features],np.array(dftrain[label]).flatten())\n",
    "print(lgrcv.best_params_)\n",
    "print(lgrcv.best_score_)"
   ]
  },
  {
   "cell_type": "code",
   "execution_count": 38,
   "metadata": {},
   "outputs": [
    {
     "name": "stdout",
     "output_type": "stream",
     "text": [
      "AUC: [ 0.83166226  0.82831243  0.82675647  0.83487155  0.82130164]\n",
      "Mean AUC: 0.828580869413\n",
      "Median AUC: 0.828312434594\n"
     ]
    }
   ],
   "source": [
    "model4=LogisticRegression(penalty='l2',C=0.01)\n",
    "result = cross_val_score(model4,dftrain[train_features], np.array(dftrain[label]).flatten(), cv=skf, scoring='roc_auc')\n",
    "\n",
    "print(\"AUC:\", result)\n",
    "print(\"Mean AUC:\", result.mean())\n",
    "print(\"Median AUC:\", np.median(result))"
   ]
  },
  {
   "cell_type": "code",
   "execution_count": 74,
   "metadata": {},
   "outputs": [
    {
     "data": {
      "text/plain": [
       "GridSearchCV(cv=3, error_score='raise',\n",
       "       estimator=KNeighborsClassifier(algorithm='auto', leaf_size=30, metric='minkowski',\n",
       "           metric_params=None, n_jobs=1, n_neighbors=5, p=2,\n",
       "           weights='uniform'),\n",
       "       fit_params=None, iid=True, n_jobs=5,\n",
       "       param_grid={'n_neighbors': range(169, 200)},\n",
       "       pre_dispatch='2*n_jobs', refit=True, return_train_score=False,\n",
       "       scoring='roc_auc', verbose=0)"
      ]
     },
     "execution_count": 74,
     "metadata": {},
     "output_type": "execute_result"
    }
   ],
   "source": [
    "from sklearn.neighbors import KNeighborsClassifier\n",
    "\n",
    "parameters = {'n_neighbors':range(169,200)} #best 6\n",
    "\n",
    "knn=KNeighborsClassifier()\n",
    "\n",
    "knn = GridSearchCV(knn, parameters,cv=3,scoring='roc_auc',n_jobs=5, return_train_score=False)\n",
    "knn.fit(scale(X_train), np.array(y_train).flatten())"
   ]
  },
  {
   "cell_type": "code",
   "execution_count": 77,
   "metadata": {},
   "outputs": [
    {
     "data": {
      "text/plain": [
       "{'n_neighbors': 190}"
      ]
     },
     "execution_count": 77,
     "metadata": {},
     "output_type": "execute_result"
    }
   ],
   "source": [
    "knn.best_params_"
   ]
  },
  {
   "cell_type": "code",
   "execution_count": 79,
   "metadata": {},
   "outputs": [
    {
     "name": "stdout",
     "output_type": "stream",
     "text": [
      "AUC: [ 0.83331259  0.83378367  0.82666393  0.83211006  0.82316912]\n",
      "Mean AUC: 0.829807874179\n",
      "Median AUC: 0.832110057472\n"
     ]
    }
   ],
   "source": [
    "model5=KNeighborsClassifier(n_neighbors=190)\n",
    "\n",
    "result = cross_val_score(model5,scale(dftrain[train_features]), np.array(dftrain[label]).flatten(), cv=skf, scoring='roc_auc')\n",
    "\n",
    "print(\"AUC:\", result)\n",
    "print(\"Mean AUC:\", result.mean())\n",
    "print(\"Median AUC:\", np.median(result))"
   ]
  },
  {
   "cell_type": "code",
   "execution_count": 80,
   "metadata": {},
   "outputs": [
    {
     "name": "stdout",
     "output_type": "stream",
     "text": [
      "AUC: [ 0.83506179  0.83341286  0.82815291  0.83500147  0.82543333]\n",
      "Mean AUC: 0.831412470466\n",
      "Median AUC: 0.833412855075\n"
     ]
    }
   ],
   "source": [
    "model9=KNeighborsClassifier(n_neighbors=250)\n",
    "\n",
    "result = cross_val_score(model9,scale(dftrain[train_features]), np.array(dftrain[label]).flatten(), cv=skf, scoring='roc_auc')\n",
    "\n",
    "print(\"AUC:\", result)\n",
    "print(\"Mean AUC:\", result.mean())\n",
    "print(\"Median AUC:\", np.median(result))"
   ]
  },
  {
   "cell_type": "code",
   "execution_count": 81,
   "metadata": {},
   "outputs": [
    {
     "name": "stdout",
     "output_type": "stream",
     "text": [
      "AUC: [ 0.83633493  0.83449498  0.83135992  0.83648472  0.8258835 ]\n",
      "Mean AUC: 0.832911612494\n",
      "Median AUC: 0.834494983676\n"
     ]
    }
   ],
   "source": [
    "model10=KNeighborsClassifier(n_neighbors=350)\n",
    "\n",
    "result = cross_val_score(model10,scale(dftrain[train_features]), np.array(dftrain[label]).flatten(), cv=skf, scoring='roc_auc')\n",
    "\n",
    "print(\"AUC:\", result)\n",
    "print(\"Mean AUC:\", result.mean())\n",
    "print(\"Median AUC:\", np.median(result))"
   ]
  },
  {
   "cell_type": "code",
   "execution_count": 83,
   "metadata": {},
   "outputs": [
    {
     "name": "stdout",
     "output_type": "stream",
     "text": [
      "AUC: [ 0.83704781  0.8331965   0.83251787  0.83549979  0.82700655]\n",
      "Mean AUC: 0.833053702865\n",
      "Median AUC: 0.833196504553\n"
     ]
    }
   ],
   "source": [
    "model11=KNeighborsClassifier(n_neighbors=500)\n",
    "\n",
    "result = cross_val_score(model11,scale(dftrain[train_features]), np.array(dftrain[label]).flatten(), cv=skf, scoring='roc_auc')\n",
    "\n",
    "print(\"AUC:\", result)\n",
    "print(\"Mean AUC:\", result.mean())\n",
    "print(\"Median AUC:\", np.median(result))"
   ]
  },
  {
   "cell_type": "code",
   "execution_count": 84,
   "metadata": {},
   "outputs": [
    {
     "name": "stdout",
     "output_type": "stream",
     "text": [
      "AUC: [ 0.8377186   0.83296258  0.83367466  0.83683964  0.82573795]\n",
      "Mean AUC: 0.833386682015\n",
      "Median AUC: 0.833674655122\n"
     ]
    }
   ],
   "source": [
    "model12=KNeighborsClassifier(n_neighbors=750)\n",
    "\n",
    "result = cross_val_score(model12,scale(dftrain[train_features]), np.array(dftrain[label]).flatten(), cv=skf, scoring='roc_auc')\n",
    "\n",
    "print(\"AUC:\", result)\n",
    "print(\"Mean AUC:\", result.mean())\n",
    "print(\"Median AUC:\", np.median(result))"
   ]
  },
  {
   "cell_type": "code",
   "execution_count": 85,
   "metadata": {},
   "outputs": [
    {
     "name": "stdout",
     "output_type": "stream",
     "text": [
      "AUC: [ 0.83788136  0.83383111  0.83215476  0.83716135  0.8268186 ]\n",
      "Mean AUC: 0.833569438633\n",
      "Median AUC: 0.833831111863\n"
     ]
    }
   ],
   "source": [
    "model13=KNeighborsClassifier(n_neighbors=1000)\n",
    "\n",
    "result = cross_val_score(model13,scale(dftrain[train_features]), np.array(dftrain[label]).flatten(), cv=skf, scoring='roc_auc')\n",
    "\n",
    "print(\"AUC:\", result)\n",
    "print(\"Mean AUC:\", result.mean())\n",
    "print(\"Median AUC:\", np.median(result))"
   ]
  },
  {
   "cell_type": "code",
   "execution_count": 86,
   "metadata": {},
   "outputs": [
    {
     "name": "stdout",
     "output_type": "stream",
     "text": [
      "AUC: [ 0.83729095  0.83354918  0.83126393  0.83798356  0.82792944]\n",
      "Mean AUC: 0.833603411817\n",
      "Median AUC: 0.833549182537\n"
     ]
    }
   ],
   "source": [
    "model14=KNeighborsClassifier(n_neighbors=1500)\n",
    "\n",
    "result = cross_val_score(model14,scale(dftrain[train_features]), np.array(dftrain[label]).flatten(), cv=skf, scoring='roc_auc')\n",
    "\n",
    "print(\"AUC:\", result)\n",
    "print(\"Mean AUC:\", result.mean())\n",
    "print(\"Median AUC:\", np.median(result))"
   ]
  },
  {
   "cell_type": "code",
   "execution_count": 87,
   "metadata": {},
   "outputs": [
    {
     "name": "stdout",
     "output_type": "stream",
     "text": [
      "AUC: [ 0.83725065  0.83303978  0.83052729  0.83855696  0.82841902]\n",
      "Mean AUC: 0.833558739666\n",
      "Median AUC: 0.83303977967\n"
     ]
    }
   ],
   "source": [
    "model15=KNeighborsClassifier(n_neighbors=2000)\n",
    "\n",
    "result = cross_val_score(model15,scale(dftrain[train_features]), np.array(dftrain[label]).flatten(), cv=skf, scoring='roc_auc')\n",
    "\n",
    "print(\"AUC:\", result)\n",
    "print(\"Mean AUC:\", result.mean())\n",
    "print(\"Median AUC:\", np.median(result))"
   ]
  },
  {
   "cell_type": "code",
   "execution_count": 99,
   "metadata": {},
   "outputs": [
    {
     "data": {
      "text/plain": [
       "2    24822\n",
       "4    23350\n",
       "3    12248\n",
       "0    10187\n",
       "1     9246\n",
       "dtype: int64"
      ]
     },
     "execution_count": 99,
     "metadata": {},
     "output_type": "execute_result"
    }
   ],
   "source": [
    "from sklearn.cluster import KMeans\n",
    "\n",
    "kmeans=KMeans(n_clusters=5).fit(dftrain[train_features])\n",
    "k_train=kmeans.predict(dftrain[train_features])\n",
    "#k_test=kmeans.predict(dftest[train_features])\n",
    "pd.Series(k_train).value_counts()"
   ]
  },
  {
   "cell_type": "code",
   "execution_count": 100,
   "metadata": {},
   "outputs": [
    {
     "data": {
      "text/plain": [
       "<matplotlib.collections.PathCollection at 0x1a2f844048>"
      ]
     },
     "execution_count": 100,
     "metadata": {},
     "output_type": "execute_result"
    },
    {
     "data": {
      "image/png": "[encoded data removed]",
      "text/plain": [
       "<Figure size 432x288 with 1 Axes>"
      ]
     },
     "metadata": {},
     "output_type": "display_data"
    }
   ],
   "source": [
    "plt.scatter(dftrain['l_missed_payments'],dftrain['l_age_in_days'], c=k_train, cmap='viridis',label=k_train)"
   ]
  },
  {
   "cell_type": "code",
   "execution_count": 101,
   "metadata": {
    "collapsed": true
   },
   "outputs": [],
   "source": [
    "X_train1=np.array(dftrain[train_features])[train_indices[1]]\n",
    "X_train2=np.array(dftrain[train_features])[train_indices[2]]\n",
    "X_train3=np.array(dftrain[train_features])[train_indices[3]]\n",
    "X_train4=np.array(dftrain[train_features])[train_indices[4]]\n",
    "X_train5=np.array(dftrain[train_features])[train_indices[5]]\n",
    "\n",
    "\n",
    "y_train1=np.array(dftrain[label])[train_indices[1]]\n",
    "y_train2=np.array(dftrain[label])[train_indices[2]]\n",
    "y_train3=np.array(dftrain[label])[train_indices[3]]\n",
    "y_train4=np.array(dftrain[label])[train_indices[4]]\n",
    "y_train5=np.array(dftrain[label])[train_indices[5]]\n",
    "\n",
    "X_test1=np.array(dftrain[train_features])[test_indices[1]]\n",
    "X_test2=np.array(dftrain[train_features])[test_indices[2]]\n",
    "X_test3=np.array(dftrain[train_features])[test_indices[3]]\n",
    "X_test4=np.array(dftrain[train_features])[test_indices[4]]\n",
    "X_test5=np.array(dftrain[train_features])[test_indices[5]]\n",
    "\n",
    "\n",
    "y_test1=np.array(dftrain[label])[test_indices[1]]\n",
    "y_test2=np.array(dftrain[label])[test_indices[2]]\n",
    "y_test3=np.array(dftrain[label])[test_indices[3]]\n",
    "y_test4=np.array(dftrain[label])[test_indices[4]]\n",
    "y_test5=np.array(dftrain[label])[test_indices[5]]"
   ]
  },
  {
   "cell_type": "code",
   "execution_count": 121,
   "metadata": {
    "collapsed": true
   },
   "outputs": [],
   "source": [
    "def lgb_run1(X_train,y_train):\n",
    "    params = {}\n",
    "    params['learning_rate'] = 0.004\n",
    "    params['boosting_type'] = 'gbdt'\n",
    "    params['objective'] = 'binary'\n",
    "    params['metric'] = 'auc'\n",
    "    params['num_leaves'] = 25\n",
    "    params['max_depth'] = -1\n",
    "    params['feature_fraction'] = 0.5\n",
    "    params['bagging_fraction'] = 0.5\n",
    "    params['verbosity'] = -1\n",
    "    params['random_seed']= 42\n",
    "    params['bagging_seed']= 42\n",
    "    params['bagging_frequency'] =5\n",
    "    params['num_iteration']=757\n",
    "    \n",
    "    lgtrain = lgb.Dataset(X_train, label=y_train)\n",
    "    model = lgb.train(params, lgtrain)\n",
    "    return  model"
   ]
  },
  {
   "cell_type": "code",
   "execution_count": 171,
   "metadata": {
    "collapsed": true
   },
   "outputs": [],
   "source": [
    "names=train_features + ['renewal','r1','r2','r3','r4','r5','r6','r7','r8','r9','r10','r11','r12','r13']"
   ]
  },
  {
   "cell_type": "code",
   "execution_count": 151,
   "metadata": {
    "collapsed": true
   },
   "outputs": [],
   "source": [
    "def score(dftr,labtr,dfte,labte):\n",
    "    \n",
    "    \n",
    "    model1= lgb_run1(dftr, np.array(labtr).flatten()) #Score: 1.44\n",
    "    print(\"LightGBM Training Completed...\")\n",
    "    \n",
    "    dtrain = xgb.DMatrix(dftr, label=labtr)\n",
    "    params = {\n",
    "    # Parameters that we are going to tune.\n",
    "    'max_depth':3,\n",
    "    'min_child_weight': 6,\n",
    "    'eta':0.1,\n",
    "    'subsample': 0.7,\n",
    "    'colsample_bytree': 0.9,\n",
    "    'silent': 1,\n",
    "    # Other parameters\n",
    "    'objective':'binary:logistic',\n",
    "    'eval_metric':'auc'\n",
    "    }\n",
    "    model2 = xgb.train(params,dtrain,num_boost_round=89)\n",
    "    model3=RandomForestClassifier(n_estimators=33,max_depth=7)\n",
    "    model3.fit(dftr,np.array(labtr).flatten())\n",
    "    model4=MLPClassifier(hidden_layer_sizes=(5,),activation='logistic',solver='lbfgs',learning_rate='adaptive',alpha=0.0001)\n",
    "    model4.fit(scale(dftr),np.array(labtr).flatten())\n",
    "    model5=LogisticRegression(penalty='l2',C=0.01)\n",
    "    model5.fit(dftr,np.array(labtr).flatten())\n",
    "    model6=KNeighborsClassifier(n_neighbors=190)\n",
    "    model6.fit(scale(dftr),np.array(labtr).flatten())\n",
    "    model7=KNeighborsClassifier(n_neighbors=250)\n",
    "    model7.fit(scale(dftr),np.array(labtr).flatten())\n",
    "    model8=KNeighborsClassifier(n_neighbors=350)\n",
    "    model8.fit(scale(dftr),np.array(labtr).flatten())\n",
    "    model9=KNeighborsClassifier(n_neighbors=500)\n",
    "    model9.fit(scale(dftr),np.array(labtr).flatten())\n",
    "    model10=KNeighborsClassifier(n_neighbors=750)\n",
    "    model10.fit(scale(dftr),np.array(labtr).flatten())\n",
    "    model11=KNeighborsClassifier(n_neighbors=1000)\n",
    "    model11.fit(scale(dftr),np.array(labtr).flatten())\n",
    "    model12=KNeighborsClassifier(n_neighbors=1500)\n",
    "    model12.fit(scale(dftr),np.array(labtr).flatten())\n",
    "    model13=KNeighborsClassifier(n_neighbors=2000)\n",
    "    model13.fit(scale(dftr),np.array(labtr).flatten())\n",
    "    \n",
    "    dftarget=pd.DataFrame(labte.flatten(),columns=['renewal'])\n",
    "    dftarget['r1']=model1.predict(dfte)\n",
    "    dftarget['r2']=model2.predict(xgb.DMatrix(dfte, label=None))\n",
    "    dftarget['r3']=model3.predict_proba(dfte)[:,1]\n",
    "    dftarget['r4']=model4.predict_proba(scale(dfte))[:,1]\n",
    "    dftarget['r5']=model5.predict_proba(dfte)[:,1]\n",
    "    dftarget['r6']=model6.predict_proba(scale(dfte))[:,1]\n",
    "    dftarget['r7']=model7.predict_proba(scale(dfte))[:,1]\n",
    "    dftarget['r8']=model8.predict_proba(scale(dfte))[:,1]\n",
    "    dftarget['r9']=model9.predict_proba(scale(dfte))[:,1]\n",
    "    dftarget['r10']=model10.predict_proba(scale(dfte))[:,1]\n",
    "    dftarget['r11']=model11.predict_proba(scale(dfte))[:,1]\n",
    "    dftarget['r12']=model12.predict_proba(scale(dfte))[:,1]\n",
    "    dftarget['r13']=model13.predict_proba(scale(dfte))[:,1]\n",
    "    \n",
    "    final_set=pd.concat([pd.DataFrame(dfte,columns=train_features),dftarget],axis=1)\n",
    "    return dftarget,final_set  "
   ]
  },
  {
   "cell_type": "code",
   "execution_count": 152,
   "metadata": {},
   "outputs": [
    {
     "name": "stdout",
     "output_type": "stream",
     "text": [
      "LightGBM Training Completed...\n"
     ]
    }
   ],
   "source": [
    "targets1, testset1= score(X_train1,y_train1,X_test1,y_test1)"
   ]
  },
  {
   "cell_type": "code",
   "execution_count": 154,
   "metadata": {},
   "outputs": [
    {
     "name": "stdout",
     "output_type": "stream",
     "text": [
      "LightGBM Training Completed...\n",
      "LightGBM Training Completed...\n",
      "LightGBM Training Completed...\n",
      "LightGBM Training Completed...\n"
     ]
    }
   ],
   "source": [
    "targets2, testset2= score(X_train2,y_train2,X_test2,y_test2)\n",
    "targets3, testset3= score(X_train3,y_train3,X_test3,y_test3)\n",
    "targets4, testset4= score(X_train4,y_train4,X_test4,y_test4)\n",
    "targets5, testset5= score(X_train5,y_train5,X_test5,y_test5)\n",
    "\n",
    "targets=pd.concat([targets1,targets2,targets3,targets4,targets5]).reset_index(drop=True)\n",
    "final_trainset=pd.concat([testset1,testset2,testset3,testset4,testset5]).reset_index(drop=True)"
   ]
  },
  {
   "cell_type": "code",
   "execution_count": 156,
   "metadata": {},
   "outputs": [
    {
     "data": {
      "text/plain": [
       "0    24742\n",
       "3    21856\n",
       "4    12322\n",
       "2    11483\n",
       "1     9450\n",
       "dtype: int64"
      ]
     },
     "execution_count": 156,
     "metadata": {},
     "output_type": "execute_result"
    }
   ],
   "source": [
    "kmeans=KMeans(n_clusters=5).fit(final_trainset[train_features])\n",
    "k_train=kmeans.predict(final_trainset[train_features])\n",
    "#k_test=kmeans.predict(dftest[train_features])\n",
    "pd.Series(k_train).value_counts()"
   ]
  },
  {
   "cell_type": "code",
   "execution_count": 157,
   "metadata": {
    "collapsed": true
   },
   "outputs": [],
   "source": [
    "final_trainset['cluster']=k_train"
   ]
  },
  {
   "cell_type": "code",
   "execution_count": 158,
   "metadata": {
    "collapsed": true
   },
   "outputs": [],
   "source": [
    "sne_train=pd.read_csv('sne_train.csv')\n",
    "sne_test=pd.read_csv('sne_test.csv')"
   ]
  },
  {
   "cell_type": "code",
   "execution_count": 165,
   "metadata": {
    "collapsed": true
   },
   "outputs": [],
   "source": [
    "final_trainset['sne1']=sne_train['0']\n",
    "final_trainset['sne2']=sne_train['1']"
   ]
  },
  {
   "cell_type": "code",
   "execution_count": 257,
   "metadata": {
    "collapsed": true
   },
   "outputs": [],
   "source": [
    "exclu=['l_missed_payments','l_Income','l_age_in_days','l_perc_premium_paid_by_cash_credit',\n",
    "    'l_application_underwriting_score']\n",
    "label=['renewal']\n",
    "main_features=list(set(final_trainset.columns.values.tolist()) - set(label)-set(exclu))"
   ]
  },
  {
   "cell_type": "code",
   "execution_count": 258,
   "metadata": {},
   "outputs": [
    {
     "data": {
      "text/plain": [
       "3"
      ]
     },
     "execution_count": 258,
     "metadata": {},
     "output_type": "execute_result"
    }
   ],
   "source": [
    "from sklearn.model_selection import StratifiedKFold\n",
    "from sklearn.model_selection import cross_val_score \n",
    "\n",
    "skf1 = StratifiedKFold(n_splits=3,shuffle=False, random_state=567)\n",
    "skf1.get_n_splits(np.array(final_trainset[main_features]), np.array(final_trainset[label]).flatten())"
   ]
  },
  {
   "cell_type": "code",
   "execution_count": 210,
   "metadata": {},
   "outputs": [
    {
     "data": {
      "text/plain": [
       "GridSearchCV(cv=5, error_score='raise',\n",
       "       estimator=MLPClassifier(activation='relu', alpha=0.0001, batch_size='auto', beta_1=0.9,\n",
       "       beta_2=0.999, early_stopping=False, epsilon=1e-08,\n",
       "       hidden_layer_sizes=(100,), learning_rate='adaptive',\n",
       "       learning_rate_init=0.001, max_iter=200, momentum=0.9,\n",
       "       nesterovs_momentum=True, power_t=0.5, random_state=None,\n",
       "       shuffle=True, solver='adam', tol=0.0001, validation_fraction=0.1,\n",
       "       verbose=False, warm_start=False),\n",
       "       fit_params=None, iid=True, n_jobs=5,\n",
       "       param_grid={'hidden_layer_sizes': [(3,)], 'activation': ['logistic'], 'solver': ['lbfgs'], 'alpha': [4, 5, 6, 7, 8]},\n",
       "       pre_dispatch='2*n_jobs', refit=True, return_train_score=False,\n",
       "       scoring='roc_auc', verbose=0)"
      ]
     },
     "execution_count": 210,
     "metadata": {},
     "output_type": "execute_result"
    }
   ],
   "source": [
    "parameters = {'hidden_layer_sizes':[(3,)],'activation':['logistic'],\n",
    "'solver' : ['lbfgs'],'alpha':[4]}\n",
    "\n",
    "mlp2=MLPClassifier(learning_rate='adaptive',alpha=0.0001)\n",
    "mlpcv = GridSearchCV(mlp2, parameters,cv=5,scoring=\"roc_auc\",n_jobs=5, return_train_score=False)\n",
    "mlpcv.fit(scale(final_trainset[main_features]),np.array(final_trainset[label]).flatten())"
   ]
  },
  {
   "cell_type": "code",
   "execution_count": 259,
   "metadata": {},
   "outputs": [
    {
     "name": "stdout",
     "output_type": "stream",
     "text": [
      "AUC: [ 0.83600852  0.83844434  0.83576064]\n",
      "Mean AUC: 0.836737832174\n",
      "Median AUC: 0.836008521716\n"
     ]
    }
   ],
   "source": [
    "modell21=MLPClassifier(learning_rate='adaptive',alpha=4,hidden_layer_sizes=(3,),activation='logistic',solver='lbfgs')\n",
    "#modell21.fit(scale(final_trainset[main_features],np.array(final_trainset[label]).flatten())\n",
    "\n",
    "\n",
    "result = cross_val_score(modell21,scale(final_trainset[main_features]), np.array(final_trainset[label]).flatten(), cv=skf1, scoring='roc_auc')\n",
    "\n",
    "print(\"AUC:\", result)\n",
    "print(\"Mean AUC:\", result.mean())\n",
    "print(\"Median AUC:\", np.median(result))"
   ]
  },
  {
   "cell_type": "code",
   "execution_count": 220,
   "metadata": {
    "collapsed": true
   },
   "outputs": [],
   "source": [
    "X_train, X_test, y_train, y_test = train_test_split(final_trainset[main_features], final_trainset[label]\n",
    "                                                    , test_size=0.4, random_state=123)\n"
   ]
  },
  {
   "cell_type": "code",
   "execution_count": 261,
   "metadata": {},
   "outputs": [
    {
     "data": {
      "text/plain": [
       "MLPClassifier(activation='logistic', alpha=4, batch_size='auto', beta_1=0.9,\n",
       "       beta_2=0.999, early_stopping=False, epsilon=1e-08,\n",
       "       hidden_layer_sizes=(3,), learning_rate='adaptive',\n",
       "       learning_rate_init=0.001, max_iter=200, momentum=0.9,\n",
       "       nesterovs_momentum=True, power_t=0.5, random_state=None,\n",
       "       shuffle=True, solver='lbfgs', tol=0.0001, validation_fraction=0.1,\n",
       "       verbose=False, warm_start=False)"
      ]
     },
     "execution_count": 261,
     "metadata": {},
     "output_type": "execute_result"
    }
   ],
   "source": [
    "modell21=MLPClassifier(learning_rate='adaptive',alpha=4,hidden_layer_sizes=(3,),activation='logistic',solver='lbfgs')\n",
    "modell21.fit(scale(final_trainset[main_features]),np.array(final_trainset[label]).flatten())"
   ]
  },
  {
   "cell_type": "code",
   "execution_count": 250,
   "metadata": {},
   "outputs": [
    {
     "data": {
      "text/plain": [
       "GridSearchCV(cv=5, error_score='raise',\n",
       "       estimator=RandomForestClassifier(bootstrap=True, class_weight=None, criterion='gini',\n",
       "            max_depth=None, max_features='auto', max_leaf_nodes=None,\n",
       "            min_impurity_decrease=0.0, min_impurity_split=None,\n",
       "            min_samples_leaf=1, min_samples_split=2,\n",
       "            min_weight_fraction_leaf=0.0, n_estimators=10, n_jobs=1,\n",
       "            oob_score=False, random_state=None, verbose=0,\n",
       "            warm_start=False),\n",
       "       fit_params=None, iid=True, n_jobs=5,\n",
       "       param_grid={'n_estimators': range(15, 22), 'max_depth': range(3, 6)},\n",
       "       pre_dispatch='2*n_jobs', refit=True, return_train_score=False,\n",
       "       scoring='roc_auc', verbose=0)"
      ]
     },
     "execution_count": 250,
     "metadata": {},
     "output_type": "execute_result"
    }
   ],
   "source": [
    "parameters = {'n_estimators':range(15,22),'max_depth':range(3,6)} # 33, 9\n",
    "\n",
    "rf = RandomForestClassifier()\n",
    "\n",
    "rfcv = GridSearchCV(rf, parameters,cv=5,scoring=\"roc_auc\",n_jobs=5, return_train_score=False)\n",
    "rfcv.fit(final_trainset[main_features], np.array(final_trainset[label]).flatten())"
   ]
  },
  {
   "cell_type": "code",
   "execution_count": 262,
   "metadata": {},
   "outputs": [
    {
     "data": {
      "text/plain": [
       "{'max_depth': 4, 'n_estimators': 18}"
      ]
     },
     "execution_count": 262,
     "metadata": {},
     "output_type": "execute_result"
    }
   ],
   "source": [
    "rfcv.best_params_"
   ]
  },
  {
   "cell_type": "code",
   "execution_count": 263,
   "metadata": {},
   "outputs": [
    {
     "name": "stdout",
     "output_type": "stream",
     "text": [
      "AUC: [ 0.83626119  0.83767263  0.83546165]\n",
      "Mean AUC: 0.836465155789\n",
      "Median AUC: 0.836261191716\n"
     ]
    }
   ],
   "source": [
    "modell22=RandomForestClassifier(n_estimators=18,max_depth=4)\n",
    "\n",
    "result = cross_val_score(modell22,final_trainset[main_features], np.array(final_trainset[label]).flatten(), cv=skf1, scoring='roc_auc')\n",
    "\n",
    "print(\"AUC:\", result)\n",
    "print(\"Mean AUC:\", result.mean())\n",
    "print(\"Median AUC:\", np.median(result))"
   ]
  },
  {
   "cell_type": "code",
   "execution_count": 267,
   "metadata": {},
   "outputs": [
    {
     "name": "stdout",
     "output_type": "stream",
     "text": [
      "Training until validation scores don't improve for 100 rounds.\n",
      "[100]\ttraining's auc: 0.854995\tvalid_1's auc: 0.832035\n",
      "Early stopping, best iteration is:\n",
      "[71]\ttraining's auc: 0.854652\tvalid_1's auc: 0.832116\n",
      "LightGBM Training Completed...\n"
     ]
    }
   ],
   "source": [
    "import lightgbm as lgb\n",
    "\n",
    "def lgb_run(X_train,y_train, val_X, val_y):\n",
    "    params = {}\n",
    "    params['learning_rate'] = 0.005\n",
    "    params['boosting_type'] = 'dart'\n",
    "    params['objective'] = 'binary'\n",
    "    params['metric'] = 'auc'\n",
    "    params['num_leaves'] = 6\n",
    "    params['max_depth'] = -1\n",
    "    params['feature_fraction'] = 0.5\n",
    "    params['bagging_fraction'] = 0.5\n",
    "    params['verbosity'] = -1\n",
    "    params['random_seed']= 42\n",
    "    params['bagging_seed']= 42\n",
    "    params['bagging_frequency'] =5\n",
    "    #params['num_iteration']=1065\n",
    "    \n",
    "\n",
    "    \n",
    "    lgtrain = lgb.Dataset(X_train, label=y_train)\n",
    "    lgval = lgb.Dataset(val_X, label=val_y)\n",
    "    evals_result = {}\n",
    "    model = lgb.train(params, lgtrain, 5000,\n",
    "                      valid_sets=[lgtrain,lgval], \n",
    "                      early_stopping_rounds=100, \n",
    "                      verbose_eval=100, \n",
    "                      evals_result=evals_result)\n",
    "    \n",
    "    #pred_test_y = np.expm1(model.predict(test_X, num_iteration=model.best_iteration))\n",
    "    return  model, evals_result\n",
    "\n",
    "modell22, evals_resultl22 = lgb_run(X_train, np.array(y_train).flatten(), X_test, np.array(y_test).flatten())\n",
    "print(\"LightGBM Training Completed...\")\n"
   ]
  },
  {
   "cell_type": "code",
   "execution_count": 284,
   "metadata": {},
   "outputs": [
    {
     "name": "stdout",
     "output_type": "stream",
     "text": [
      "[0]\tTrain-auc:0.798882\tTest-auc:0.789525\n",
      "Multiple eval metrics have been passed: 'Test-auc' will be used for early stopping.\n",
      "\n",
      "Will train until Test-auc hasn't improved in 10 rounds.\n",
      "[20]\tTrain-auc:0.838789\tTest-auc:0.83004\n",
      "[40]\tTrain-auc:0.843006\tTest-auc:0.832788\n",
      "Stopping. Best iteration:\n",
      "[43]\tTrain-auc:0.843205\tTest-auc:0.83287\n",
      "\n",
      "Best RMSE: 0.83 with 44 rounds\n"
     ]
    }
   ],
   "source": [
    "import xgboost as xgb\n",
    "\n",
    "### load data in do training\n",
    "dtrain = xgb.DMatrix(X_train, label=y_train)\n",
    "dtest = xgb.DMatrix(X_test, label=y_test)\n",
    "params = {\n",
    "    # Parameters that we are going to tune.\n",
    "    'max_depth':2,\n",
    "    'min_child_weight': 7,\n",
    "    'eta':0.1,\n",
    "    'subsample': 0.8,\n",
    "    'colsample_bytree': 0.9,\n",
    "    'silent': 1,\n",
    "    # Other parameters\n",
    "    'objective':'binary:logistic',\n",
    "}\n",
    "params['eval_metric'] = \"auc\"\n",
    "num_boost_round = 999\n",
    "\n",
    "model8 = xgb.train(\n",
    "    params,\n",
    "    dtrain,\n",
    "    num_boost_round=num_boost_round,\n",
    "    evals=[(dtrain, \"Train\"),(dtest, \"Test\")],\n",
    "    early_stopping_rounds=10,\n",
    "    verbose_eval=20\n",
    ")\n",
    "\n",
    "print(\"Best RMSE: {:.2f} with {} rounds\".format(\n",
    "                 model8.best_score,\n",
    "                 model8.best_iteration+1))"
   ]
  },
  {
   "cell_type": "code",
   "execution_count": 403,
   "metadata": {
    "collapsed": true
   },
   "outputs": [],
   "source": [
    "#feature_engineering\n",
    "dftest['application_underwriting_score']=np.where(dftest['application_underwriting_score'].isnull(),lr.intercept_[0]+lr.coef_[0][0]*dftest['no_of_premiums_paid'],dftest['application_underwriting_score'])\n",
    "dftest['missed_payments']=dftest[[ 'Count_3-6_months_late','Count_6-12_months_late','Count_more_than_12_months_late']].sum(axis=1)\n",
    "dftest['l_age_in_days']=np.log(dftest['age_in_days']+1)\n",
    "dftest['l_Income']=np.log(dftest['Income']+1)\n",
    "dftest['l_application_underwriting_score']=np.log(dftest['application_underwriting_score']+1)\n",
    "dftest['l_no_of_premiums_paid']=np.log(dftest['no_of_premiums_paid']+1)\n",
    "dftest['l_perc_premium_paid_by_cash_credit']=np.log(dftest['perc_premium_paid_by_cash_credit']+1)\n",
    "dftest['l_premium']=np.log(dftest['premium']+1)\n",
    "dftest=dftest.fillna(-99)\n",
    "dftest['l_missed_payments']=np.log(dftest['missed_payments']+1)\n",
    "dftest=dftest.fillna(-99)\n",
    "\n",
    "dummies=pd.get_dummies(dftest['residence_area_type'],prefix='ra')\n",
    "#dftest=pd.concat([dftest,dummies],axis=1)\n",
    "\n",
    "dummies=pd.get_dummies(dftest['sourcing_channel'],prefix='channel')\n",
    "#dftest=pd.concat([dftest,dummies],axis=1)\n"
   ]
  },
  {
   "cell_type": "code",
   "execution_count": 292,
   "metadata": {
    "collapsed": true
   },
   "outputs": [],
   "source": [
    "def score1(dftr,labtr,dfte,l):\n",
    "    \n",
    "    temp=dfte[l]\n",
    "    \n",
    "    model1= lgb_run1(dftr, np.array(labtr).flatten()) #Score: 1.44\n",
    "    print(\"LightGBM Training Completed...\")\n",
    "    \n",
    "    dtrain = xgb.DMatrix(dftr, label=labtr)\n",
    "    params = {\n",
    "    # Parameters that we are going to tune.\n",
    "    'max_depth':3,\n",
    "    'min_child_weight': 6,\n",
    "    'eta':0.1,\n",
    "    'subsample': 0.7,\n",
    "    'colsample_bytree': 0.9,\n",
    "    'silent': 1,\n",
    "    # Other parameters\n",
    "    'objective':'binary:logistic',\n",
    "    'eval_metric':'auc'\n",
    "    }\n",
    "    model2 = xgb.train(params,dtrain,num_boost_round=89)\n",
    "    model3=RandomForestClassifier(n_estimators=33,max_depth=7)\n",
    "    model3.fit(dftr,np.array(labtr).flatten())\n",
    "    model4=MLPClassifier(hidden_layer_sizes=(5,),activation='logistic',solver='lbfgs',learning_rate='adaptive',alpha=0.0001)\n",
    "    model4.fit(scale(dftr),np.array(labtr).flatten())\n",
    "    model5=LogisticRegression(penalty='l2',C=0.01)\n",
    "    model5.fit(dftr,np.array(labtr).flatten())\n",
    "    model6=KNeighborsClassifier(n_neighbors=190)\n",
    "    model6.fit(scale(dftr),np.array(labtr).flatten())\n",
    "    model7=KNeighborsClassifier(n_neighbors=250)\n",
    "    model7.fit(scale(dftr),np.array(labtr).flatten())\n",
    "    model8=KNeighborsClassifier(n_neighbors=350)\n",
    "    model8.fit(scale(dftr),np.array(labtr).flatten())\n",
    "    model9=KNeighborsClassifier(n_neighbors=500)\n",
    "    model9.fit(scale(dftr),np.array(labtr).flatten())\n",
    "    model10=KNeighborsClassifier(n_neighbors=750)\n",
    "    model10.fit(scale(dftr),np.array(labtr).flatten())\n",
    "    model11=KNeighborsClassifier(n_neighbors=1000)\n",
    "    model11.fit(scale(dftr),np.array(labtr).flatten())\n",
    "    model12=KNeighborsClassifier(n_neighbors=1500)\n",
    "    model12.fit(scale(dftr),np.array(labtr).flatten())\n",
    "    model13=KNeighborsClassifier(n_neighbors=2000)\n",
    "    model13.fit(scale(dftr),np.array(labtr).flatten())\n",
    "    \n",
    "    dfte['r1']=model1.predict(temp)\n",
    "    dfte['r2']=model2.predict(xgb.DMatrix(temp, label=None))\n",
    "    dfte['r3']=model3.predict_proba(temp)[:,1]\n",
    "    dfte['r4']=model4.predict_proba(scale(temp))[:,1]\n",
    "    dfte['r5']=model5.predict_proba(temp)[:,1]\n",
    "    dfte['r6']=model6.predict_proba(scale(temp))[:,1]\n",
    "    dfte['r7']=model7.predict_proba(scale(temp))[:,1]\n",
    "    dfte['r8']=model8.predict_proba(scale(temp))[:,1]\n",
    "    dfte['r9']=model9.predict_proba(scale(temp))[:,1]\n",
    "    dfte['r10']=model10.predict_proba(scale(temp))[:,1]\n",
    "    dfte['r11']=model11.predict_proba(scale(temp))[:,1]\n",
    "    dfte['r12']=model12.predict_proba(scale(temp))[:,1]\n",
    "    dfte['r13']=model13.predict_proba(scale(temp))[:,1]\n",
    "    \n",
    "    return dfte "
   ]
  },
  {
   "cell_type": "code",
   "execution_count": 293,
   "metadata": {},
   "outputs": [
    {
     "name": "stdout",
     "output_type": "stream",
     "text": [
      "LightGBM Training Completed...\n"
     ]
    }
   ],
   "source": [
    "final_testset=score1(dftrain[train_features],np.array(dftrain[label]).flatten(),dftest,train_features)"
   ]
  },
  {
   "cell_type": "code",
   "execution_count": 295,
   "metadata": {
    "collapsed": true
   },
   "outputs": [],
   "source": [
    "final_testset['cluster']=kmeans.predict(final_testset[train_features])\n",
    "final_testset['sne1']=sne_test['0']\n",
    "final_testset['sne2']=sne_test['1']"
   ]
  },
  {
   "cell_type": "code",
   "execution_count": 305,
   "metadata": {
    "collapsed": true
   },
   "outputs": [],
   "source": [
    "modell21=MLPClassifier(learning_rate='adaptive',alpha=4,hidden_layer_sizes=(3,),activation='logistic',solver='lbfgs')\n",
    "modell21.fit(scale(final_trainset[main_features]),np.array(final_trainset[label]).flatten())\n",
    "\n",
    "modell22=RandomForestClassifier(n_estimators=18,max_depth=4)\n",
    "modell22.fit(final_trainset[main_features],np.array(final_trainset[label]).flatten())\n",
    "\n",
    "params = {}\n",
    "params['learning_rate'] = 0.005\n",
    "params['boosting_type'] = 'gbdt'\n",
    "params['objective'] = 'binary'\n",
    "params['metric'] = 'auc'\n",
    "params['num_leaves'] = 8\n",
    "params['max_depth'] = -1\n",
    "params['feature_fraction'] = 0.8\n",
    "params['bagging_fraction'] = 0.9\n",
    "params['verbosity'] = -1\n",
    "params['random_seed']= 42\n",
    "params['bagging_seed']= 42\n",
    "params['bagging_frequency'] =5\n",
    "params['num_iteration']=350\n",
    "   \n",
    "lgtrain = lgb.Dataset(final_trainset[main_features], label=np.array(final_trainset[label]).flatten())\n",
    "modell23 = lgb.train(params, lgtrain)\n",
    "\n",
    "dtrain = xgb.DMatrix(final_trainset[main_features], label=np.array(final_trainset[label]).flatten())\n",
    "params = {\n",
    "# Parameters that we are going to tune.\n",
    "'max_depth':2,\n",
    "'min_child_weight': 7,\n",
    "'eta':0.1,\n",
    "'subsample': 0.8,\n",
    "'colsample_bytree': 0.9,\n",
    "'silent': 1,\n",
    "# Other parameters\n",
    "'objective':'binary:logistic',\n",
    "'eval_metric':'auc'\n",
    "}\n",
    "modell24 = xgb.train(params,dtrain,num_boost_round=43)"
   ]
  },
  {
   "cell_type": "code",
   "execution_count": 306,
   "metadata": {
    "collapsed": true
   },
   "outputs": [],
   "source": [
    "final_testset['l2_r1']=modell21.predict_proba(scale(final_testset[main_features]))[:,1]\n",
    "final_testset['l2_r2']=modell22.predict_proba(final_testset[main_features])[:,1]\n",
    "final_testset['l2_r3']=modell23.predict(final_testset[main_features])\n",
    "final_testset['l2_r4']=modell24.predict(xgb.DMatrix(final_testset[main_features],label=None))"
   ]
  },
  {
   "cell_type": "code",
   "execution_count": 413,
   "metadata": {
    "collapsed": true
   },
   "outputs": [],
   "source": [
    "final_testset.to_csv('final_predictions.csv',index=False)"
   ]
  },
  {
   "cell_type": "code",
   "execution_count": 412,
   "metadata": {
    "collapsed": true
   },
   "outputs": [],
   "source": [
    "final_testset['renewal']=0.55*final_testset['l2_r4']+0.45*final_testset['l2_r1']"
   ]
  }
 ],
 "metadata": {
  "kernelspec": {
   "display_name": "Python 3",
   "language": "python",
   "name": "python3"
  },
  "language_info": {
   "codemirror_mode": {
    "name": "ipython",
    "version": 3
   },
   "file_extension": ".py",
   "mimetype": "text/x-python",
   "name": "python",
   "nbconvert_exporter": "python",
   "pygments_lexer": "ipython3",
   "version": "3.6.6"
  }
 },
 "nbformat": 4,
 "nbformat_minor": 2
}
